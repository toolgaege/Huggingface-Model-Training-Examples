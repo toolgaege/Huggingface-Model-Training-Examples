{
 "cells": [
  {
   "cell_type": "code",
   "execution_count": null,
   "id": "ed716b4d",
   "metadata": {},
   "outputs": [],
   "source": [
    "# Hugging Face üzerinden model eğitmek ve paylaşmak için bir hesap oluşturmalısın:\n",
    "\n",
    "# Hugging Face sitesine kaydol.\n",
    "# Access Token oluştur (Profil > Settings > Access Tokens).\n",
    "# Terminal veya Colab'da giriş yap:"
   ]
  },
  {
   "cell_type": "code",
   "execution_count": null,
   "id": "3d27c329",
   "metadata": {},
   "outputs": [],
   "source": [
    "# 1.Gerekli Kütüphaneleri Kur\n",
    "#pip install transformers datasets evaluate accelerate torch"
   ]
  },
  {
   "cell_type": "code",
   "execution_count": null,
   "id": "7b6c1fd3",
   "metadata": {},
   "outputs": [],
   "source": [
    "# 2. Hugging Face'e Giriş Yap\n",
    "from huggingface_hub import notebook_login\n",
    "notebook_login()"
   ]
  },
  {
   "cell_type": "code",
   "execution_count": null,
   "id": "5f5b4a6e",
   "metadata": {
    "lines_to_next_cell": 2
   },
   "outputs": [],
   "source": [
    "# 3. Load the dataset (IMDB Veri Setini Yükle)\n",
    "from datasets import load_dataset\n",
    "\n",
    "dataset = load_dataset(\"csv\", data_files=\"dataset.csv\")\n",
    "print(dataset)"
   ]
  },
  {
   "cell_type": "code",
   "execution_count": null,
   "id": "414afb22",
   "metadata": {},
   "outputs": [],
   "source": [
    "# 4. Model ve Tokenizer Seç\n",
    "from transformers import AutoModelForSequenceClassification, AutoTokenizer\n",
    "\n",
    "model_name = \"bert-base-uncased\"\n",
    "tokenizer = AutoTokenizer.from_pretrained(model_name)\n",
    "model = AutoModelForSequenceClassification.from_pretrained(model_name, num_labels=2)"
   ]
  },
  {
   "cell_type": "code",
   "execution_count": 4,
   "id": "05ceac1a",
   "metadata": {
    "lines_to_next_cell": 1
   },
   "outputs": [],
   "source": [
    "# 5.Veriyi Tokenize Etme\n",
    "def tokenize_function(examples):\n",
    "    return tokenizer(examples[\"text\"], padding=\"max_length\", truncation=True)\n",
    "\n",
    "tokenized_datasets = dataset.map(tokenize_function, batched=True)"
   ]
  },
  {
   "cell_type": "code",
   "execution_count": null,
   "id": "2568a39e",
   "metadata": {},
   "outputs": [],
   "source": [
    "# 6.Eğitim Ayarlarını Yap\n",
    "from transformers import TrainingArguments, Trainer, DataCollatorWithPadding\n",
    "\n",
    "training_args = TrainingArguments(\n",
    "    output_dir=\"./results\",\n",
    "    evaluation_strategy=\"epoch\",\n",
    "    save_strategy=\"epoch\",\n",
    "    learning_rate=2e-5,\n",
    "    per_device_train_batch_size=8,\n",
    "    per_device_eval_batch_size=8,\n",
    "    num_train_epochs=3,\n",
    "    weight_decay=0.01,\n",
    "    push_to_hub=True\n",
    ")\n",
    "\n",
    "data_collator = DataCollatorWithPadding(tokenizer=tokenizer)\n",
    "\n",
    "trainer = Trainer(\n",
    "    model=model,\n",
    "    args=training_args,\n",
    "    train_dataset=tokenized_datasets[\"train\"],\n",
    "    eval_dataset=tokenized_datasets[\"train\"],  # Küçük veri olduğu için test seti eklemedik\n",
    "    data_collator=data_collator\n",
    ")\n",
    "\n"
   ]
  },
  {
   "cell_type": "code",
   "execution_count": 6,
   "id": "0536b1e1",
   "metadata": {},
   "outputs": [
    {
     "data": {
      "text/html": [
       "\n",
       "    <div>\n",
       "      \n",
       "      <progress value='3' max='3' style='width:300px; height:20px; vertical-align: middle;'></progress>\n",
       "      [3/3 00:10, Epoch 3/3]\n",
       "    </div>\n",
       "    <table border=\"1\" class=\"dataframe\">\n",
       "  <thead>\n",
       " <tr style=\"text-align: left;\">\n",
       "      <th>Epoch</th>\n",
       "      <th>Training Loss</th>\n",
       "      <th>Validation Loss</th>\n",
       "    </tr>\n",
       "  </thead>\n",
       "  <tbody>\n",
       "    <tr>\n",
       "      <td>1</td>\n",
       "      <td>No log</td>\n",
       "      <td>0.650385</td>\n",
       "    </tr>\n",
       "    <tr>\n",
       "      <td>2</td>\n",
       "      <td>No log</td>\n",
       "      <td>0.619884</td>\n",
       "    </tr>\n",
       "    <tr>\n",
       "      <td>3</td>\n",
       "      <td>No log</td>\n",
       "      <td>0.597047</td>\n",
       "    </tr>\n",
       "  </tbody>\n",
       "</table><p>"
      ],
      "text/plain": [
       "<IPython.core.display.HTML object>"
      ]
     },
     "metadata": {},
     "output_type": "display_data"
    },
    {
     "data": {
      "text/plain": [
       "TrainOutput(global_step=3, training_loss=0.6072676181793213, metrics={'train_runtime': 12.7573, 'train_samples_per_second': 1.176, 'train_steps_per_second': 0.235, 'total_flos': 3946665830400.0, 'train_loss': 0.6072676181793213, 'epoch': 3.0})"
      ]
     },
     "execution_count": 6,
     "metadata": {},
     "output_type": "execute_result"
    }
   ],
   "source": [
    "# 7. Modeli Eğit\n",
    "trainer.train()"
   ]
  },
  {
   "cell_type": "code",
   "execution_count": 7,
   "id": "d848433c",
   "metadata": {},
   "outputs": [
    {
     "data": {
      "application/vnd.jupyter.widget-view+json": {
       "model_id": "2df28c9c326a44d9b9ebef0619fe8528",
       "version_major": 2,
       "version_minor": 0
      },
      "text/plain": [
       "model.safetensors:   0%|          | 0.00/438M [00:00<?, ?B/s]"
      ]
     },
     "metadata": {},
     "output_type": "display_data"
    },
    {
     "data": {
      "text/plain": [
       "CommitInfo(commit_url='https://huggingface.co/tolgaege/results/commit/beae7f7304f127d0c112ad866322e66831e337e7', commit_message='results', commit_description='', oid='beae7f7304f127d0c112ad866322e66831e337e7', pr_url=None, repo_url=RepoUrl('https://huggingface.co/tolgaege/results', endpoint='https://huggingface.co', repo_type='model', repo_id='tolgaege/results'), pr_revision=None, pr_num=None)"
      ]
     },
     "execution_count": 7,
     "metadata": {},
     "output_type": "execute_result"
    }
   ],
   "source": [
    "# 8. Modeli Hugging Face’e Yükle\n",
    "trainer.push_to_hub(\"results\")"
   ]
  },
  {
   "cell_type": "code",
   "execution_count": null,
   "id": "2e08254f",
   "metadata": {},
   "outputs": [],
   "source": [
    "# 9. Modeli Test Et\n",
    "from transformers import pipeline\n",
    "\n",
    "classifier = pipeline(\"sentiment-analysis\", model=\"tolgaege/results\")\n",
    "print(classifier(\"Bu film harikaydı!\"))"
   ]
  },
  {
   "cell_type": "code",
   "execution_count": null,
   "id": "7526bee3",
   "metadata": {},
   "outputs": [],
   "source": [
    "# Modeli yükleme\n",
    "from transformers import AutoModelForSequenceClassification, AutoTokenizer\n",
    "from huggingface_hub import HfApi\n",
    "\n",
    "# Hugging Face'e giriş yap (daha önce yapmadıysan)\n",
    "!huggingface-cli login \n",
    "\n",
    "# Modeli yüklemeden önce Hugging Face deposunu oluştur\n",
    "api = HfApi()\n",
    "api.create_repo(\"tolgaege/results\")\n",
    "\n",
    "# Modeli yükle\n",
    "model = AutoModelForSequenceClassification.from_pretrained(\"./results\")  # Model dosyanın olduğu yol\n",
    "tokenizer = AutoTokenizer.from_pretrained(\"./results\")  \n",
    "\n",
    "model.push_to_hub(\"tolgaege/results\")\n",
    "tokenizer.push_to_hub(\"tolgaege/results\")"
   ]
  },
  {
   "cell_type": "code",
   "execution_count": 15,
   "id": "1071ff83",
   "metadata": {},
   "outputs": [],
   "source": [
    "from transformers import BertTokenizer\n",
    "\n",
    "tokenizer = BertTokenizer.from_pretrained(\"bert-base-uncased\")"
   ]
  },
  {
   "cell_type": "code",
   "execution_count": null,
   "id": "4c724fa1",
   "metadata": {},
   "outputs": [],
   "source": [
    "from transformers import AutoModelForSequenceClassification, AutoTokenizer\n",
    "\n",
    "# Modelin ve tokenizer'ın bulunduğu yol\n",
    "model_name = \"bert-base-uncased\"  # Modelin adı veya yolunun doğru olduğundan emin olun\n",
    "\n",
    "# Modeli ve tokenizer'ı tekrar yükleyin\n",
    "model = AutoModelForSequenceClassification.from_pretrained(model_name)\n",
    "tokenizer = AutoTokenizer.from_pretrained(model_name)\n"
   ]
  },
  {
   "cell_type": "code",
   "execution_count": 20,
   "id": "9ae3a9e3",
   "metadata": {},
   "outputs": [
    {
     "name": "stderr",
     "output_type": "stream",
     "text": [
      "Device set to use mps:0\n"
     ]
    },
    {
     "name": "stdout",
     "output_type": "stream",
     "text": [
      "[{'label': 'LABEL_0', 'score': 0.5247048735618591}]\n"
     ]
    }
   ],
   "source": [
    "from transformers import pipeline\n",
    "\n",
    "# Sentiment analysis pipeline'ını başlat\n",
    "classifier = pipeline(\"sentiment-analysis\", model=model, tokenizer=tokenizer)\n",
    "\n",
    "# Test mesajını analiz et\n",
    "print(classifier(\"Bu film harikaydı!\"))"
   ]
  }
 ],
 "metadata": {
  "jupytext": {
   "cell_metadata_filter": "-all",
   "main_language": "python",
   "notebook_metadata_filter": "-all"
  },
  "kernelspec": {
   "display_name": "Python 3",
   "language": "python",
   "name": "python3"
  },
  "language_info": {
   "codemirror_mode": {
    "name": "ipython",
    "version": 3
   },
   "file_extension": ".py",
   "mimetype": "text/x-python",
   "name": "python",
   "nbconvert_exporter": "python",
   "pygments_lexer": "ipython3",
   "version": "3.12.1"
  }
 },
 "nbformat": 4,
 "nbformat_minor": 5
}
